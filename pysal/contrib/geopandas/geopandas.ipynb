{
 "metadata": {
  "name": "",
  "signature": "sha256:751b1955c5e0a40cec7174eb643f5e7117df344a7bd2fc24e25dc17161a6659b"
 },
 "nbformat": 3,
 "nbformat_minor": 0,
 "worksheets": [
  {
   "cells": [
    {
     "cell_type": "code",
     "collapsed": false,
     "input": [
      "import sys\n",
      "sys.path"
     ],
     "language": "python",
     "metadata": {},
     "outputs": [
      {
       "metadata": {},
       "output_type": "pyout",
       "prompt_number": 1,
       "text": [
        "['',\n",
        " '/Users/serge/anaconda/lib/python2.7/site-packages/numpydoc-0.4-py2.7.egg',\n",
        " '/Users/serge/anaconda/lib/python2.7/site-packages/oauth2client-1.1-py2.7.egg',\n",
        " '/Users/serge/anaconda/lib/python2.7/site-packages/python_gflags-2.0-py2.7.egg',\n",
        " '/Users/serge/anaconda/lib/python2.7/site-packages/httplib2-0.8-py2.7.egg',\n",
        " '/Users/serge/anaconda/lib/python2.7/site-packages/google_api_python_client-1.1-py2.7.egg',\n",
        " '/Users/serge/Dropbox/encore',\n",
        " '/Users/serge/anaconda/lib/python2.7/site-packages/folium-0.1.2-py2.7.egg',\n",
        " '/Users/serge/Documents/p/pysal/src/pysal/pysal/contrib/geopandas',\n",
        " '/Users/serge/Documents/p/pysal/src/pysal',\n",
        " '/Users/serge/anaconda/python.app/Contents/lib/python27.zip',\n",
        " '/Users/serge/anaconda/python.app/Contents/lib/python2.7',\n",
        " '/Users/serge/anaconda/python.app/Contents/lib/python2.7/plat-darwin',\n",
        " '/Users/serge/anaconda/python.app/Contents/lib/python2.7/plat-mac',\n",
        " '/Users/serge/anaconda/python.app/Contents/lib/python2.7/plat-mac/lib-scriptpackages',\n",
        " '/Users/serge/anaconda/python.app/Contents/lib/python2.7/lib-tk',\n",
        " '/Users/serge/anaconda/python.app/Contents/lib/python2.7/lib-old',\n",
        " '/Users/serge/anaconda/python.app/Contents/lib/python2.7/lib-dynload',\n",
        " '/Users/serge/anaconda/lib/python2.7/site-packages',\n",
        " '/Users/serge/anaconda/lib/python2.7/site-packages/PIL',\n",
        " '/Users/serge/anaconda/lib/python2.7/site-packages/runipy-0.1.0-py2.7.egg',\n",
        " '/Users/serge/anaconda/lib/python2.7/site-packages/setuptools-3.6-py2.7.egg',\n",
        " '/Users/serge/anaconda/lib/python2.7/site-packages/IPython/extensions']"
       ]
      }
     ],
     "prompt_number": 1
    },
    {
     "cell_type": "code",
     "collapsed": false,
     "input": [
      "sys.path.append(\"/Users/serge/Dropbox/g/geopandas\")"
     ],
     "language": "python",
     "metadata": {},
     "outputs": [],
     "prompt_number": 2
    },
    {
     "cell_type": "code",
     "collapsed": false,
     "input": [
      "sys.path"
     ],
     "language": "python",
     "metadata": {},
     "outputs": [
      {
       "metadata": {},
       "output_type": "pyout",
       "prompt_number": 3,
       "text": [
        "['',\n",
        " '/Users/serge/anaconda/lib/python2.7/site-packages/numpydoc-0.4-py2.7.egg',\n",
        " '/Users/serge/anaconda/lib/python2.7/site-packages/oauth2client-1.1-py2.7.egg',\n",
        " '/Users/serge/anaconda/lib/python2.7/site-packages/python_gflags-2.0-py2.7.egg',\n",
        " '/Users/serge/anaconda/lib/python2.7/site-packages/httplib2-0.8-py2.7.egg',\n",
        " '/Users/serge/anaconda/lib/python2.7/site-packages/google_api_python_client-1.1-py2.7.egg',\n",
        " '/Users/serge/Dropbox/encore',\n",
        " '/Users/serge/anaconda/lib/python2.7/site-packages/folium-0.1.2-py2.7.egg',\n",
        " '/Users/serge/Documents/p/pysal/src/pysal/pysal/contrib/geopandas',\n",
        " '/Users/serge/Documents/p/pysal/src/pysal',\n",
        " '/Users/serge/anaconda/python.app/Contents/lib/python27.zip',\n",
        " '/Users/serge/anaconda/python.app/Contents/lib/python2.7',\n",
        " '/Users/serge/anaconda/python.app/Contents/lib/python2.7/plat-darwin',\n",
        " '/Users/serge/anaconda/python.app/Contents/lib/python2.7/plat-mac',\n",
        " '/Users/serge/anaconda/python.app/Contents/lib/python2.7/plat-mac/lib-scriptpackages',\n",
        " '/Users/serge/anaconda/python.app/Contents/lib/python2.7/lib-tk',\n",
        " '/Users/serge/anaconda/python.app/Contents/lib/python2.7/lib-old',\n",
        " '/Users/serge/anaconda/python.app/Contents/lib/python2.7/lib-dynload',\n",
        " '/Users/serge/anaconda/lib/python2.7/site-packages',\n",
        " '/Users/serge/anaconda/lib/python2.7/site-packages/PIL',\n",
        " '/Users/serge/anaconda/lib/python2.7/site-packages/runipy-0.1.0-py2.7.egg',\n",
        " '/Users/serge/anaconda/lib/python2.7/site-packages/setuptools-3.6-py2.7.egg',\n",
        " '/Users/serge/anaconda/lib/python2.7/site-packages/IPython/extensions',\n",
        " '/Users/serge/Dropbox/g/geopandas']"
       ]
      }
     ],
     "prompt_number": 3
    },
    {
     "cell_type": "code",
     "collapsed": false,
     "input": [
      "import geopandas"
     ],
     "language": "python",
     "metadata": {},
     "outputs": [],
     "prompt_number": 4
    },
    {
     "cell_type": "code",
     "collapsed": false,
     "input": [
      "import pysal as ps"
     ],
     "language": "python",
     "metadata": {},
     "outputs": [],
     "prompt_number": 5
    },
    {
     "cell_type": "code",
     "collapsed": false,
     "input": [
      "nat = geopandas.GeoDataFrame.from_file(ps.examples.get_path(\"south.shp\"))"
     ],
     "language": "python",
     "metadata": {},
     "outputs": [],
     "prompt_number": 8
    },
    {
     "cell_type": "code",
     "collapsed": false,
     "input": [
      "nat.geometry[0]"
     ],
     "language": "python",
     "metadata": {},
     "outputs": [
      {
       "metadata": {},
       "output_type": "pyout",
       "prompt_number": 12,
       "text": [
        "<shapely.geometry.polygon.Polygon at 0x1088d1710>"
       ]
      }
     ],
     "prompt_number": 12
    },
    {
     "cell_type": "code",
     "collapsed": false,
     "input": [],
     "language": "python",
     "metadata": {},
     "outputs": []
    }
   ],
   "metadata": {}
  }
 ]
}