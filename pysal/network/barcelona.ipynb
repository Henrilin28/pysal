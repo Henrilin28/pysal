{
 "metadata": {
  "name": "",
  "signature": "sha256:3dd8101ff9bbf17e6a2b427bf3561945c0078537e5026219a1348dbbc0928e54"
 },
 "nbformat": 3,
 "nbformat_minor": 0,
 "worksheets": [
  {
   "cells": [
    {
     "cell_type": "code",
     "collapsed": true,
     "input": [
      "import pysal as ps"
     ],
     "language": "python",
     "metadata": {},
     "outputs": [],
     "prompt_number": 1
    },
    {
     "cell_type": "code",
     "collapsed": false,
     "input": [
      "# downloaded from http://osm-extracted-metros.s3.amazonaws.com/barcelona.osm2pgsql-shapefiles.zip"
     ],
     "language": "python",
     "metadata": {},
     "outputs": [],
     "prompt_number": 2
    },
    {
     "cell_type": "code",
     "collapsed": false,
     "input": [
      "sf = \"/Users/serge/Downloads/barcelona.osm2pgsql-shapefiles/barcelona.osm-line.shp\""
     ],
     "language": "python",
     "metadata": {},
     "outputs": [],
     "prompt_number": 3
    },
    {
     "cell_type": "code",
     "collapsed": false,
     "input": [
      "shp = ps.open(sf)"
     ],
     "language": "python",
     "metadata": {},
     "outputs": [],
     "prompt_number": 4
    },
    {
     "cell_type": "code",
     "collapsed": false,
     "input": [
      "shp.header"
     ],
     "language": "python",
     "metadata": {},
     "outputs": [
      {
       "metadata": {},
       "output_type": "pyout",
       "prompt_number": 5,
       "text": [
        "{'BBOX Mmax': 0.0,\n",
        " 'BBOX Mmin': 0.0,\n",
        " 'BBOX Xmax': 2.4959987,\n",
        " 'BBOX Xmin': 1.7340011,\n",
        " 'BBOX Ymax': 41.6869997,\n",
        " 'BBOX Ymin': 41.0758895,\n",
        " 'BBOX Zmax': 0.0,\n",
        " 'BBOX Zmin': 0.0,\n",
        " 'File Code': 9994,\n",
        " 'File Length': 12753334,\n",
        " 'Shape Type': 3,\n",
        " 'Unused0': 0,\n",
        " 'Unused1': 0,\n",
        " 'Unused2': 0,\n",
        " 'Unused3': 0,\n",
        " 'Unused4': 0,\n",
        " 'Version': 1000}"
       ]
      }
     ],
     "prompt_number": 5
    },
    {
     "cell_type": "code",
     "collapsed": false,
     "input": [
      "df = \"/Users/serge/Downloads/barcelona.osm2pgsql-shapefiles/barcelona.osm-line.dbf\""
     ],
     "language": "python",
     "metadata": {},
     "outputs": [],
     "prompt_number": 6
    },
    {
     "cell_type": "code",
     "collapsed": false,
     "input": [
      "dbf = ps.open(df)\n",
      "vars = dbf.header"
     ],
     "language": "python",
     "metadata": {},
     "outputs": [],
     "prompt_number": 7
    },
    {
     "cell_type": "code",
     "collapsed": false,
     "input": [
      "highway = dbf.by_col('highway')"
     ],
     "language": "python",
     "metadata": {},
     "outputs": [],
     "prompt_number": 8
    },
    {
     "cell_type": "code",
     "collapsed": false,
     "input": [
      "roads = [i for i,roadType in enumerate(highway) if roadType != '']"
     ],
     "language": "python",
     "metadata": {},
     "outputs": [],
     "prompt_number": 9
    },
    {
     "cell_type": "code",
     "collapsed": false,
     "input": [
      "len(roads)"
     ],
     "language": "python",
     "metadata": {},
     "outputs": [
      {
       "metadata": {},
       "output_type": "pyout",
       "prompt_number": 10,
       "text": [
        "81003"
       ]
      }
     ],
     "prompt_number": 10
    },
    {
     "cell_type": "code",
     "collapsed": false,
     "input": [
      "highway[1] == ''"
     ],
     "language": "python",
     "metadata": {},
     "outputs": [
      {
       "metadata": {},
       "output_type": "pyout",
       "prompt_number": 11,
       "text": [
        "True"
       ]
      }
     ],
     "prompt_number": 11
    },
    {
     "cell_type": "code",
     "collapsed": false,
     "input": [
      "lines = []\n",
      "i = 0\n",
      "for line in shp:\n",
      "    if i in roads:\n",
      "        lines.append(line)\n",
      "    i +=1"
     ],
     "language": "python",
     "metadata": {},
     "outputs": [],
     "prompt_number": 12
    },
    {
     "cell_type": "code",
     "collapsed": false,
     "input": [
      "len(lines)"
     ],
     "language": "python",
     "metadata": {},
     "outputs": [
      {
       "metadata": {},
       "output_type": "pyout",
       "prompt_number": 13,
       "text": [
        "81003"
       ]
      }
     ],
     "prompt_number": 13
    },
    {
     "cell_type": "code",
     "collapsed": false,
     "input": [
      "l0 = lines[0]"
     ],
     "language": "python",
     "metadata": {},
     "outputs": [],
     "prompt_number": 14
    },
    {
     "cell_type": "code",
     "collapsed": false,
     "input": [
      "l0.vertices"
     ],
     "language": "python",
     "metadata": {},
     "outputs": [
      {
       "metadata": {},
       "output_type": "pyout",
       "prompt_number": 15,
       "text": [
        "[(1.7383318, 41.2512503),\n",
        " (1.7382881, 41.2512319),\n",
        " (1.7380889, 41.2511766),\n",
        " (1.7379062, 41.2511505),\n",
        " (1.7377525, 41.2511025),\n",
        " (1.7375814, 41.2510247),\n",
        " (1.7375002, 41.2510015),\n",
        " (1.7373833, 41.2509913),\n",
        " (1.7372508, 41.2509862),\n",
        " (1.7371029, 41.2509877),\n",
        " (1.7369396, 41.2510204),\n",
        " (1.7366409, 41.2511098),\n",
        " (1.7365403, 41.2511207),\n",
        " (1.736404, 41.2511367),\n",
        " (1.7363054, 41.2511708),\n",
        " (1.7360889, 41.2512835),\n",
        " (1.735943, 41.2513903),\n",
        " (1.7357902, 41.2515189),\n",
        " (1.7357023, 41.2515807),\n",
        " (1.7356462, 41.2516069),\n",
        " (1.7355824, 41.251617),\n",
        " (1.735508, 41.2516141),\n",
        " (1.7353098, 41.2515835),\n",
        " (1.7346399, 41.2513896),\n",
        " (1.7340502, 41.2512144),\n",
        " (1.7340021, 41.2512119)]"
       ]
      }
     ],
     "prompt_number": 15
    },
    {
     "cell_type": "code",
     "collapsed": false,
     "input": [
      "from collections import defaultdict\n",
      "segments = defaultdict(list)\n",
      "vertices = defaultdict(list)\n",
      "for i,line in enumerate(lines):\n",
      "    for j in range(len(line.vertices)-1):\n",
      "        o = line.vertices[j]\n",
      "        d = line.vertices[j+1]\n",
      "        vertices[o].append((o,d))\n",
      "        vertices[d].append((o,d))\n",
      "        segments[(o,d)].append(i)\n",
      "        \n",
      "        "
     ],
     "language": "python",
     "metadata": {},
     "outputs": [],
     "prompt_number": 16
    },
    {
     "cell_type": "code",
     "collapsed": false,
     "input": [
      "len(vertices)"
     ],
     "language": "python",
     "metadata": {},
     "outputs": [
      {
       "metadata": {},
       "output_type": "pyout",
       "prompt_number": 17,
       "text": [
        "803014"
       ]
      }
     ],
     "prompt_number": 17
    },
    {
     "cell_type": "code",
     "collapsed": false,
     "input": [
      "k1 = vertices.keys()"
     ],
     "language": "python",
     "metadata": {},
     "outputs": [],
     "prompt_number": 18
    },
    {
     "cell_type": "code",
     "collapsed": false,
     "input": [
      "k1[0]"
     ],
     "language": "python",
     "metadata": {},
     "outputs": [
      {
       "metadata": {},
       "output_type": "pyout",
       "prompt_number": 19,
       "text": [
        "(2.1511515, 41.4352546)"
       ]
      }
     ],
     "prompt_number": 19
    },
    {
     "cell_type": "code",
     "collapsed": false,
     "input": [
      "vertices[k1[0]]"
     ],
     "language": "python",
     "metadata": {},
     "outputs": [
      {
       "metadata": {},
       "output_type": "pyout",
       "prompt_number": 20,
       "text": [
        "[((2.1510807, 41.435176), (2.1511515, 41.4352546)),\n",
        " ((2.1511515, 41.4352546), (2.1511819, 41.4353402))]"
       ]
      }
     ],
     "prompt_number": 20
    },
    {
     "cell_type": "code",
     "collapsed": false,
     "input": [
      "len(vertices)"
     ],
     "language": "python",
     "metadata": {},
     "outputs": [
      {
       "metadata": {},
       "output_type": "pyout",
       "prompt_number": 21,
       "text": [
        "803014"
       ]
      }
     ],
     "prompt_number": 21
    },
    {
     "cell_type": "code",
     "collapsed": false,
     "input": [
      "maxC = 0\n",
      "for node in vertices:\n",
      "    nc = len(vertices[node])\n",
      "    if nc > maxC:\n",
      "        maxId = node\n",
      "        maxC = nc"
     ],
     "language": "python",
     "metadata": {},
     "outputs": [],
     "prompt_number": 22
    },
    {
     "cell_type": "code",
     "collapsed": false,
     "input": [
      "maxC"
     ],
     "language": "python",
     "metadata": {},
     "outputs": [
      {
       "metadata": {},
       "output_type": "pyout",
       "prompt_number": 23,
       "text": [
        "9"
       ]
      }
     ],
     "prompt_number": 23
    },
    {
     "cell_type": "code",
     "collapsed": false,
     "input": [
      "vertices[maxId]"
     ],
     "language": "python",
     "metadata": {},
     "outputs": [
      {
       "metadata": {},
       "output_type": "pyout",
       "prompt_number": 24,
       "text": [
        "[((1.8597427, 41.6497901), (1.859789, 41.6497823)),\n",
        " ((1.859789, 41.6497823), (1.8600395, 41.6496036)),\n",
        " ((1.859789, 41.6497823), (1.8602411, 41.6496203)),\n",
        " ((1.859789, 41.6497823), (1.8602606, 41.6496511)),\n",
        " ((1.859789, 41.6497823), (1.8602285, 41.6495938)),\n",
        " ((1.859789, 41.6497823), (1.8599614, 41.6495852)),\n",
        " ((1.8602981, 41.6497141), (1.859789, 41.6497823)),\n",
        " ((1.8602847, 41.6496819), (1.859789, 41.6497823)),\n",
        " ((1.86018, 41.6498366), (1.859789, 41.6497823))]"
       ]
      }
     ],
     "prompt_number": 24
    },
    {
     "cell_type": "markdown",
     "metadata": {},
     "source": [
      "maxId"
     ]
    },
    {
     "cell_type": "code",
     "collapsed": false,
     "input": [
      "for segment in vertices[maxId]:\n",
      "    print segment\n",
      "    print roads[segments[segment][0]]"
     ],
     "language": "python",
     "metadata": {},
     "outputs": [
      {
       "output_type": "stream",
       "stream": "stdout",
       "text": [
        "((1.8597427, 41.6497901), (1.859789, 41.6497823))\n",
        "8975\n",
        "((1.859789, 41.6497823), (1.8600395, 41.6496036))\n",
        "8976\n",
        "((1.859789, 41.6497823), (1.8602411, 41.6496203))\n",
        "8977\n",
        "((1.859789, 41.6497823), (1.8602606, 41.6496511))\n",
        "8978\n",
        "((1.859789, 41.6497823), (1.8602285, 41.6495938))\n",
        "8979\n",
        "((1.859789, 41.6497823), (1.8599614, 41.6495852))\n",
        "8980\n",
        "((1.8602981, 41.6497141), (1.859789, 41.6497823))\n",
        "8981\n",
        "((1.8602847, 41.6496819), (1.859789, 41.6497823))\n",
        "8982\n",
        "((1.86018, 41.6498366), (1.859789, 41.6497823))\n",
        "8983\n"
       ]
      }
     ],
     "prompt_number": 25
    },
    {
     "cell_type": "code",
     "collapsed": false,
     "input": [
      "len(segments)"
     ],
     "language": "python",
     "metadata": {},
     "outputs": [
      {
       "metadata": {},
       "output_type": "pyout",
       "prompt_number": 26,
       "text": [
        "856443"
       ]
      }
     ],
     "prompt_number": 26
    },
    {
     "cell_type": "code",
     "collapsed": false,
     "input": [
      "edgeIncidence = defaultdict(list)\n",
      "for key in vertices:\n",
      "    if len(vertices[key])>1:\n",
      "        neighbors = vertices[key]\n",
      "        for j in neighbors:\n",
      "            edgeIncidence[j].extend(neighbors)\n",
      "        "
     ],
     "language": "python",
     "metadata": {},
     "outputs": [],
     "prompt_number": 128
    },
    {
     "cell_type": "code",
     "collapsed": false,
     "input": [
      "len(edgeIncidence)"
     ],
     "language": "python",
     "metadata": {},
     "outputs": [
      {
       "metadata": {},
       "output_type": "pyout",
       "prompt_number": 129,
       "text": [
        "856184"
       ]
      }
     ],
     "prompt_number": 129
    },
    {
     "cell_type": "code",
     "collapsed": false,
     "input": [
      "k = edgeIncidence.keys()"
     ],
     "language": "python",
     "metadata": {},
     "outputs": [],
     "prompt_number": 130
    },
    {
     "cell_type": "code",
     "collapsed": false,
     "input": [
      "k[0]"
     ],
     "language": "python",
     "metadata": {},
     "outputs": [
      {
       "metadata": {},
       "output_type": "pyout",
       "prompt_number": 131,
       "text": [
        "((1.9219437, 41.6333836), (1.9220559, 41.6334199))"
       ]
      }
     ],
     "prompt_number": 131
    },
    {
     "cell_type": "code",
     "collapsed": false,
     "input": [
      "edgeIncidence[k[0]]"
     ],
     "language": "python",
     "metadata": {},
     "outputs": [
      {
       "metadata": {},
       "output_type": "pyout",
       "prompt_number": 132,
       "text": [
        "[((1.9219437, 41.6333836), (1.9220559, 41.6334199)),\n",
        " ((1.9220559, 41.6334199), (1.9221308, 41.6334515)),\n",
        " ((1.9218639, 41.6333251), (1.9219437, 41.6333836)),\n",
        " ((1.9219437, 41.6333836), (1.9220559, 41.6334199))]"
       ]
      }
     ],
     "prompt_number": 132
    },
    {
     "cell_type": "code",
     "collapsed": false,
     "input": [
      "for edge in edgeIncidence:\n",
      "    edgeIncidence[edge] = [neighbor for neighbor in edgeIncidence[edge] if neighbor !=edge]"
     ],
     "language": "python",
     "metadata": {},
     "outputs": [],
     "prompt_number": 133
    },
    {
     "cell_type": "code",
     "collapsed": false,
     "input": [
      "k[0]"
     ],
     "language": "python",
     "metadata": {},
     "outputs": [
      {
       "metadata": {},
       "output_type": "pyout",
       "prompt_number": 134,
       "text": [
        "((1.9219437, 41.6333836), (1.9220559, 41.6334199))"
       ]
      }
     ],
     "prompt_number": 134
    },
    {
     "cell_type": "code",
     "collapsed": false,
     "input": [
      "edgeIncidence[k[0]]"
     ],
     "language": "python",
     "metadata": {},
     "outputs": [
      {
       "metadata": {},
       "output_type": "pyout",
       "prompt_number": 135,
       "text": [
        "[((1.9220559, 41.6334199), (1.9221308, 41.6334515)),\n",
        " ((1.9218639, 41.6333251), (1.9219437, 41.6333836))]"
       ]
      }
     ],
     "prompt_number": 135
    },
    {
     "cell_type": "code",
     "collapsed": false,
     "input": [
      "tmp"
     ],
     "language": "python",
     "metadata": {},
     "outputs": [
      {
       "metadata": {},
       "output_type": "pyout",
       "prompt_number": 136,
       "text": [
        "[((1.9900516, 41.4147203), (1.989947, 41.4148933))]"
       ]
      }
     ],
     "prompt_number": 136
    },
    {
     "cell_type": "code",
     "collapsed": false,
     "input": [
      "import pysal as ps"
     ],
     "language": "python",
     "metadata": {},
     "outputs": [],
     "prompt_number": 137
    },
    {
     "cell_type": "code",
     "collapsed": false,
     "input": [
      "w = ps.W(neighbors=edgeIncidence)"
     ],
     "language": "python",
     "metadata": {},
     "outputs": [],
     "prompt_number": 138
    },
    {
     "cell_type": "code",
     "collapsed": false,
     "input": [
      "w.n"
     ],
     "language": "python",
     "metadata": {},
     "outputs": [
      {
       "metadata": {},
       "output_type": "pyout",
       "prompt_number": 139,
       "text": [
        "856184"
       ]
      }
     ],
     "prompt_number": 139
    },
    {
     "cell_type": "code",
     "collapsed": false,
     "input": [
      "w.pct_nonzero"
     ],
     "language": "python",
     "metadata": {},
     "outputs": [
      {
       "metadata": {},
       "output_type": "pyout",
       "prompt_number": 140,
       "text": [
        "2.8790437220530987e-06"
       ]
      }
     ],
     "prompt_number": 140
    },
    {
     "cell_type": "code",
     "collapsed": false,
     "input": [
      "k = w.id_order"
     ],
     "language": "python",
     "metadata": {},
     "outputs": [],
     "prompt_number": 141
    },
    {
     "cell_type": "code",
     "collapsed": false,
     "input": [
      "k[0:10]"
     ],
     "language": "python",
     "metadata": {},
     "outputs": [
      {
       "metadata": {},
       "output_type": "pyout",
       "prompt_number": 142,
       "text": [
        "[((1.734003, 41.5705506), (1.7341635, 41.5708729)),\n",
        " ((1.734006, 41.2374176), (1.7340774, 41.237507)),\n",
        " ((1.7340067, 41.5343604), (1.7342476, 41.5340711)),\n",
        " ((1.7340068, 41.6175047), (1.7340176, 41.6177797)),\n",
        " ((1.7340068, 41.6175047), (1.7341951, 41.6173088)),\n",
        " ((1.734007, 41.2340138), (1.7341219, 41.2340374)),\n",
        " ((1.734007, 41.2340138), (1.734152, 41.2339969)),\n",
        " ((1.7340105, 41.5929951), (1.7340216, 41.593091)),\n",
        " ((1.7340106, 41.5095213), (1.7340374, 41.5094873)),\n",
        " ((1.7340117, 41.5755477), (1.7340573, 41.5755136))]"
       ]
      }
     ],
     "prompt_number": 142
    },
    {
     "cell_type": "code",
     "collapsed": false,
     "input": [
      "w[k[0]]"
     ],
     "language": "python",
     "metadata": {},
     "outputs": [
      {
       "metadata": {},
       "output_type": "pyout",
       "prompt_number": 143,
       "text": [
        "{((1.7341188, 41.5693191), (1.734003, 41.5705506)): 1.0,\n",
        " ((1.7341635, 41.5708729), (1.7340416, 41.571972)): 1.0}"
       ]
      }
     ],
     "prompt_number": 143
    },
    {
     "cell_type": "code",
     "collapsed": false,
     "input": [
      "k[0]"
     ],
     "language": "python",
     "metadata": {},
     "outputs": [
      {
       "metadata": {},
       "output_type": "pyout",
       "prompt_number": 144,
       "text": [
        "((1.734003, 41.5705506), (1.7341635, 41.5708729))"
       ]
      }
     ],
     "prompt_number": 144
    },
    {
     "cell_type": "code",
     "collapsed": false,
     "input": [
      "w.histogram"
     ],
     "language": "python",
     "metadata": {},
     "outputs": [
      {
       "metadata": {},
       "output_type": "pyout",
       "prompt_number": 146,
       "text": [
        "[(1, 9595),\n",
        " (2, 600561),\n",
        " (3, 143648),\n",
        " (4, 59737),\n",
        " (5, 26013),\n",
        " (6, 15521),\n",
        " (7, 705),\n",
        " (8, 230),\n",
        " (9, 29),\n",
        " (10, 76),\n",
        " (11, 4),\n",
        " (12, 44),\n",
        " (13, 0),\n",
        " (14, 14),\n",
        " (15, 0),\n",
        " (16, 7)]"
       ]
      }
     ],
     "prompt_number": 146
    },
    {
     "cell_type": "markdown",
     "metadata": {},
     "source": [
      "At this point we have the edge adjacency W object for pysal.\n",
      "\n",
      "Next we would need to calculate pair-wise distances for arbitrary events located on these edges."
     ]
    },
    {
     "cell_type": "code",
     "collapsed": false,
     "input": [],
     "language": "python",
     "metadata": {},
     "outputs": []
    }
   ],
   "metadata": {}
  }
 ]
}